{
 "cells": [
  {
   "cell_type": "code",
   "execution_count": 1,
   "id": "00891aa5",
   "metadata": {},
   "outputs": [
    {
     "name": "stdout",
     "output_type": "stream",
     "text": [
      "Hello World!\n",
      "12345\n",
      "12.3\n"
     ]
    }
   ],
   "source": [
    "# print\n",
    "print('Hello World!')\n",
    "print(12345)\n",
    "print(12.3)"
   ]
  },
  {
   "cell_type": "code",
   "execution_count": 3,
   "id": "2d2d13d3",
   "metadata": {},
   "outputs": [
    {
     "name": "stdout",
     "output_type": "stream",
     "text": [
      "Hello \n",
      "World!\n"
     ]
    }
   ],
   "source": [
    "print(\"Hello \\nWorld!\")"
   ]
  },
  {
   "cell_type": "code",
   "execution_count": 4,
   "id": "e82ff908",
   "metadata": {},
   "outputs": [
    {
     "name": "stdout",
     "output_type": "stream",
     "text": [
      "Hello \tWorld!\n"
     ]
    }
   ],
   "source": [
    "print(\"Hello \\tWorld!\")"
   ]
  },
  {
   "cell_type": "code",
   "execution_count": 7,
   "id": "53aac4dd",
   "metadata": {},
   "outputs": [
    {
     "name": "stdout",
     "output_type": "stream",
     "text": [
      "I'm a boy.\n",
      "I'm a boy.\n"
     ]
    }
   ],
   "source": [
    "print(\"I'm a boy.\")\n",
    "print('I\\'m a boy.')"
   ]
  },
  {
   "cell_type": "code",
   "execution_count": 8,
   "id": "7f7f5aa2",
   "metadata": {},
   "outputs": [
    {
     "name": "stdout",
     "output_type": "stream",
     "text": [
      "2023-02-23 00:00:00\n"
     ]
    }
   ],
   "source": [
    "import datetime \n",
    "my_first_date=datetime.datetime(2023,2,23)\n",
    "print(my_first_date)"
   ]
  },
  {
   "cell_type": "code",
   "execution_count": 9,
   "id": "107a3440",
   "metadata": {},
   "outputs": [
    {
     "name": "stdout",
     "output_type": "stream",
     "text": [
      "2023-02-23 00:00:00\n"
     ]
    }
   ],
   "source": [
    "from datetime import datetime\n",
    "my_first_date=datetime(2023,2,23)\n",
    "print(my_first_date)"
   ]
  },
  {
   "cell_type": "code",
   "execution_count": 10,
   "id": "61c2a629",
   "metadata": {},
   "outputs": [
    {
     "data": {
      "text/plain": [
       "2023"
      ]
     },
     "execution_count": 10,
     "metadata": {},
     "output_type": "execute_result"
    }
   ],
   "source": [
    "my_first_date.year"
   ]
  },
  {
   "cell_type": "code",
   "execution_count": null,
   "id": "b57eb85e",
   "metadata": {},
   "outputs": [],
   "source": [
    "my_first_date"
   ]
  }
 ],
 "metadata": {
  "kernelspec": {
   "display_name": "Python 3 (ipykernel)",
   "language": "python",
   "name": "python3"
  },
  "language_info": {
   "codemirror_mode": {
    "name": "ipython",
    "version": 3
   },
   "file_extension": ".py",
   "mimetype": "text/x-python",
   "name": "python",
   "nbconvert_exporter": "python",
   "pygments_lexer": "ipython3",
   "version": "3.9.15"
  }
 },
 "nbformat": 4,
 "nbformat_minor": 5
}
