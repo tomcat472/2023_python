{
 "cells": [
  {
   "cell_type": "markdown",
   "id": "993788c0",
   "metadata": {},
   "source": [
    "# Operators and Conditionals"
   ]
  },
  {
   "cell_type": "code",
   "execution_count": 1,
   "id": "fd75ce6c",
   "metadata": {},
   "outputs": [
    {
     "name": "stdout",
     "output_type": "stream",
     "text": [
      "7\n",
      "-1\n",
      "12\n",
      "0.75\n",
      "0\n",
      "3\n",
      "81\n"
     ]
    }
   ],
   "source": [
    "# math operator\n",
    "a=3\n",
    "b=4\n",
    "print(a+b)\n",
    "print(a-b)\n",
    "print(a*b)\n",
    "print(a/b)\n",
    "print(a//b)\n",
    "print(a%b)\n",
    "print(a**b)"
   ]
  },
  {
   "cell_type": "code",
   "execution_count": 2,
   "id": "9289f5bc",
   "metadata": {},
   "outputs": [],
   "source": [
    "import math"
   ]
  },
  {
   "cell_type": "code",
   "execution_count": 3,
   "id": "c7f3d48e",
   "metadata": {},
   "outputs": [
    {
     "data": {
      "text/plain": [
       "3.0"
      ]
     },
     "execution_count": 3,
     "metadata": {},
     "output_type": "execute_result"
    }
   ],
   "source": [
    "math.sqrt(9)"
   ]
  },
  {
   "cell_type": "code",
   "execution_count": 4,
   "id": "423d3ae7",
   "metadata": {},
   "outputs": [
    {
     "data": {
      "text/plain": [
       "90"
      ]
     },
     "execution_count": 4,
     "metadata": {},
     "output_type": "execute_result"
    }
   ],
   "source": [
    "abs(-90)"
   ]
  },
  {
   "cell_type": "markdown",
   "id": "de7e507c",
   "metadata": {},
   "source": [
    "## Conditional Statements"
   ]
  },
  {
   "cell_type": "code",
   "execution_count": 5,
   "id": "8f6e8f2e",
   "metadata": {},
   "outputs": [
    {
     "name": "stdout",
     "output_type": "stream",
     "text": [
      "True\n"
     ]
    }
   ],
   "source": [
    "a=5==5\n",
    "print(a)"
   ]
  },
  {
   "cell_type": "code",
   "execution_count": 6,
   "id": "8590ad1e",
   "metadata": {},
   "outputs": [
    {
     "name": "stdout",
     "output_type": "stream",
     "text": [
      "False\n"
     ]
    }
   ],
   "source": [
    "a=5\n",
    "print(a==4)"
   ]
  },
  {
   "cell_type": "code",
   "execution_count": 7,
   "id": "35e88235",
   "metadata": {},
   "outputs": [
    {
     "name": "stdout",
     "output_type": "stream",
     "text": [
      "False\n",
      "True\n",
      "False\n",
      "True\n",
      "True\n",
      "False\n"
     ]
    }
   ],
   "source": [
    "a=4\n",
    "b=5\n",
    "print(a==b)\n",
    "print(a!=b)\n",
    "print(a>b)\n",
    "print(a<b)\n",
    "print(a<=b)\n",
    "print(a>=b)"
   ]
  },
  {
   "cell_type": "code",
   "execution_count": 8,
   "id": "6e8e7db3",
   "metadata": {},
   "outputs": [
    {
     "data": {
      "text/plain": [
       "True"
      ]
     },
     "execution_count": 8,
     "metadata": {},
     "output_type": "execute_result"
    }
   ],
   "source": [
    "not a==b"
   ]
  },
  {
   "cell_type": "markdown",
   "id": "e037680d",
   "metadata": {},
   "source": [
    "## if,elif,else"
   ]
  },
  {
   "cell_type": "code",
   "execution_count": 9,
   "id": "0160d57c",
   "metadata": {},
   "outputs": [
    {
     "name": "stdout",
     "output_type": "stream",
     "text": [
      "a is less than 100\n"
     ]
    }
   ],
   "source": [
    "a=100\n",
    "if a>100:\n",
    "    print('a is greater than 100')\n",
    "else:\n",
    "    print('a is less than 100')"
   ]
  },
  {
   "cell_type": "raw",
   "id": "1b5c3a7e",
   "metadata": {},
   "source": [
    "# Conditional \n",
    "and &\n",
    "or | \n",
    "not !"
   ]
  },
  {
   "cell_type": "code",
   "execution_count": 10,
   "id": "df9b0185",
   "metadata": {},
   "outputs": [
    {
     "name": "stdout",
     "output_type": "stream",
     "text": [
      "Oop\n"
     ]
    }
   ],
   "source": [
    "a=2200\n",
    "if a>=100 | a<=200:\n",
    "    print('a is between  100 and 200')\n",
    "elif a>=200 | a<=1000:\n",
    "    print('a is between 200 and 1000')\n",
    "else:\n",
    "    print('Oop')"
   ]
  },
  {
   "cell_type": "markdown",
   "id": "6c40e731",
   "metadata": {},
   "source": [
    "# Walrus"
   ]
  },
  {
   "cell_type": "code",
   "execution_count": 11,
   "id": "c28fef5b",
   "metadata": {},
   "outputs": [
    {
     "name": "stdout",
     "output_type": "stream",
     "text": [
      "5\n"
     ]
    }
   ],
   "source": [
    "if (a:=5)==4:\n",
    "    print(\"The if check was True\")\n",
    "print(a)"
   ]
  },
  {
   "cell_type": "code",
   "execution_count": 12,
   "id": "f6cd4968",
   "metadata": {},
   "outputs": [],
   "source": [
    "# x=int(input('Enter your number!'))\n",
    "# if (a:=100)==x:\n",
    "#     print(\"Do something\")"
   ]
  },
  {
   "cell_type": "markdown",
   "id": "801ef406",
   "metadata": {},
   "source": [
    "# List"
   ]
  },
  {
   "cell_type": "code",
   "execution_count": 13,
   "id": "cf9b0af3",
   "metadata": {},
   "outputs": [],
   "source": [
    "A=[\n",
    "    1,\n",
    "    1.2,\n",
    "    True,\n",
    "    [1,2,3]\n",
    "]"
   ]
  },
  {
   "cell_type": "code",
   "execution_count": 14,
   "id": "3539f307",
   "metadata": {},
   "outputs": [
    {
     "data": {
      "text/plain": [
       "[1, 1.2, True, [1, 2, 3]]"
      ]
     },
     "execution_count": 14,
     "metadata": {},
     "output_type": "execute_result"
    }
   ],
   "source": [
    "A"
   ]
  },
  {
   "cell_type": "code",
   "execution_count": 15,
   "id": "4481507b",
   "metadata": {},
   "outputs": [
    {
     "name": "stdout",
     "output_type": "stream",
     "text": [
      "1\n"
     ]
    }
   ],
   "source": [
    "print(A[0])"
   ]
  },
  {
   "cell_type": "code",
   "execution_count": 16,
   "id": "9f27e5c9",
   "metadata": {},
   "outputs": [
    {
     "name": "stdout",
     "output_type": "stream",
     "text": [
      "[7, 1.2, True, [1, 2, 3]]\n"
     ]
    }
   ],
   "source": [
    "A[0]=7\n",
    "print(A)"
   ]
  },
  {
   "cell_type": "code",
   "execution_count": 17,
   "id": "f1cf1100",
   "metadata": {},
   "outputs": [
    {
     "name": "stdout",
     "output_type": "stream",
     "text": [
      "[7, 1.2, True, [1, 2, 3], 100]\n"
     ]
    }
   ],
   "source": [
    "A.append(100)\n",
    "print(A)"
   ]
  },
  {
   "cell_type": "code",
   "execution_count": 18,
   "id": "48802862",
   "metadata": {},
   "outputs": [
    {
     "name": "stdout",
     "output_type": "stream",
     "text": [
      "[7, 1.2, True, [1, 2, 3], 100, 1000, 10000]\n"
     ]
    }
   ],
   "source": [
    "A.extend([1000,10000])\n",
    "print(A)"
   ]
  },
  {
   "cell_type": "code",
   "execution_count": 19,
   "id": "d4f52769",
   "metadata": {},
   "outputs": [
    {
     "data": {
      "text/plain": [
       "[1, 2, 3, 4, 5, 6]"
      ]
     },
     "execution_count": 19,
     "metadata": {},
     "output_type": "execute_result"
    }
   ],
   "source": [
    "x=[1,2,3]\n",
    "y=[4,5,6]\n",
    "x+y"
   ]
  },
  {
   "cell_type": "markdown",
   "id": "0741a7f2",
   "metadata": {},
   "source": [
    "# split, join & replace"
   ]
  },
  {
   "cell_type": "code",
   "execution_count": 20,
   "id": "58ee20ef",
   "metadata": {},
   "outputs": [
    {
     "name": "stdout",
     "output_type": "stream",
     "text": [
      "['a', 'b', 'c', 'd']\n"
     ]
    }
   ],
   "source": [
    "A='a,b,c,d'\n",
    "B=A.split(',')\n",
    "print(B)"
   ]
  },
  {
   "cell_type": "code",
   "execution_count": 21,
   "id": "bb81e01f",
   "metadata": {},
   "outputs": [
    {
     "data": {
      "text/plain": [
       "'a,b,c,d'"
      ]
     },
     "execution_count": 21,
     "metadata": {},
     "output_type": "execute_result"
    }
   ],
   "source": [
    "C=str.join(',',B)\n",
    "C"
   ]
  },
  {
   "cell_type": "code",
   "execution_count": 22,
   "id": "76776144",
   "metadata": {},
   "outputs": [
    {
     "data": {
      "text/plain": [
       "'a/b/c/d'"
      ]
     },
     "execution_count": 22,
     "metadata": {},
     "output_type": "execute_result"
    }
   ],
   "source": [
    "C.replace(',','/')"
   ]
  },
  {
   "cell_type": "markdown",
   "id": "ab1768b4",
   "metadata": {},
   "source": [
    "# Sort"
   ]
  },
  {
   "cell_type": "code",
   "execution_count": 23,
   "id": "f08ecaa6",
   "metadata": {},
   "outputs": [
    {
     "name": "stdout",
     "output_type": "stream",
     "text": [
      "[223, 123, 12, 1]\n",
      "[223, 1, 123, 12]\n"
     ]
    }
   ],
   "source": [
    "x=[223,1,123,12]\n",
    "print(sorted(x,reverse=True))\n",
    "print(x)"
   ]
  },
  {
   "cell_type": "code",
   "execution_count": 24,
   "id": "e98b1d75",
   "metadata": {},
   "outputs": [],
   "source": [
    "x.sort(reverse=True)"
   ]
  },
  {
   "cell_type": "code",
   "execution_count": 25,
   "id": "e4bd0d5b",
   "metadata": {},
   "outputs": [
    {
     "name": "stdout",
     "output_type": "stream",
     "text": [
      "[223, 123, 12, 1]\n"
     ]
    }
   ],
   "source": [
    "print(x)"
   ]
  },
  {
   "cell_type": "markdown",
   "id": "9ece7dff",
   "metadata": {},
   "source": [
    "# Slicing"
   ]
  },
  {
   "cell_type": "code",
   "execution_count": 26,
   "id": "87f3f015",
   "metadata": {},
   "outputs": [
    {
     "name": "stdout",
     "output_type": "stream",
     "text": [
      "[1, 2, 3, 4, 5]\n",
      "[1, 2, 3, 4]\n",
      "5\n",
      "[2, 3, 4]\n",
      "[1, 3, 5]\n"
     ]
    }
   ],
   "source": [
    "A=[1,2,3,4,5]\n",
    "print(A[:])\n",
    "print(A[0:4])\n",
    "print(A[-1])\n",
    "print(A[-4:-1])\n",
    "print(A[::2])"
   ]
  },
  {
   "cell_type": "markdown",
   "id": "8ec4e236",
   "metadata": {},
   "source": [
    "# Copy"
   ]
  },
  {
   "cell_type": "code",
   "execution_count": 27,
   "id": "0dff3c39",
   "metadata": {},
   "outputs": [
    {
     "name": "stdout",
     "output_type": "stream",
     "text": [
      "[1, 2, 3, 4]\n",
      "[1, 2, 3, 4]\n",
      "[1000, 2, 3, 4]\n",
      "[1000, 2, 3, 4]\n"
     ]
    }
   ],
   "source": [
    "B=[1,2,3,4]\n",
    "copy_B=B\n",
    "print(B)\n",
    "print(copy_B)\n",
    "\n",
    "B[0]=1000\n",
    "print(B)\n",
    "print(copy_B)"
   ]
  },
  {
   "cell_type": "code",
   "execution_count": 28,
   "id": "24b6dc8c",
   "metadata": {},
   "outputs": [
    {
     "name": "stdout",
     "output_type": "stream",
     "text": [
      "[1000, 10000, 3, 4]\n",
      "[1000, 2, 3, 4]\n"
     ]
    }
   ],
   "source": [
    "copy_B2=B.copy()\n",
    "B[1]=10000\n",
    "print(B)\n",
    "print(copy_B2)"
   ]
  },
  {
   "cell_type": "code",
   "execution_count": 29,
   "id": "e2d9dbd8",
   "metadata": {},
   "outputs": [
    {
     "name": "stdout",
     "output_type": "stream",
     "text": [
      "[1000, 10000, 20000, 4]\n",
      "[1000, 10000, 3, 4]\n"
     ]
    }
   ],
   "source": [
    "# another method\n",
    "copy_B3=[*B]\n",
    "B[2]=20000\n",
    "print(B)\n",
    "print(copy_B3)"
   ]
  },
  {
   "cell_type": "markdown",
   "id": "b51237d3",
   "metadata": {},
   "source": [
    "# List Operations"
   ]
  },
  {
   "cell_type": "code",
   "execution_count": 30,
   "id": "92c5f6c1",
   "metadata": {},
   "outputs": [
    {
     "name": "stdout",
     "output_type": "stream",
     "text": [
      "32434\n",
      "245\n",
      "5\n"
     ]
    }
   ],
   "source": [
    "Z=[1212,32434,4545,245,32113]\n",
    "print(max(Z))\n",
    "print(min(Z))\n",
    "print(len(Z))"
   ]
  },
  {
   "cell_type": "code",
   "execution_count": 31,
   "id": "7412beb9",
   "metadata": {},
   "outputs": [
    {
     "data": {
      "text/plain": [
       "3"
      ]
     },
     "execution_count": 31,
     "metadata": {},
     "output_type": "execute_result"
    }
   ],
   "source": [
    "Z.index(245)"
   ]
  },
  {
   "cell_type": "code",
   "execution_count": 32,
   "id": "b5541680",
   "metadata": {},
   "outputs": [
    {
     "data": {
      "text/plain": [
       "False"
      ]
     },
     "execution_count": 32,
     "metadata": {},
     "output_type": "execute_result"
    }
   ],
   "source": [
    "10 in Z"
   ]
  },
  {
   "cell_type": "code",
   "execution_count": 33,
   "id": "d03dae8e",
   "metadata": {},
   "outputs": [
    {
     "data": {
      "text/plain": [
       "True"
      ]
     },
     "execution_count": 33,
     "metadata": {},
     "output_type": "execute_result"
    }
   ],
   "source": [
    "245 in Z"
   ]
  },
  {
   "cell_type": "code",
   "execution_count": 34,
   "id": "9a0a2f25",
   "metadata": {},
   "outputs": [
    {
     "data": {
      "text/plain": [
       "[32434, 32113]"
      ]
     },
     "execution_count": 34,
     "metadata": {},
     "output_type": "execute_result"
    }
   ],
   "source": [
    "[a for a in Z if a>10000]"
   ]
  }
 ],
 "metadata": {
  "kernelspec": {
   "display_name": "Python 3 (ipykernel)",
   "language": "python",
   "name": "python3"
  },
  "language_info": {
   "codemirror_mode": {
    "name": "ipython",
    "version": 3
   },
   "file_extension": ".py",
   "mimetype": "text/x-python",
   "name": "python",
   "nbconvert_exporter": "python",
   "pygments_lexer": "ipython3",
   "version": "3.9.15"
  }
 },
 "nbformat": 4,
 "nbformat_minor": 5
}
