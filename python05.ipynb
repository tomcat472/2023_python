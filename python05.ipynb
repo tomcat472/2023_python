{
 "cells": [
  {
   "cell_type": "code",
   "execution_count": 1,
   "id": "64b45f08",
   "metadata": {},
   "outputs": [],
   "source": [
    "class Map:\n",
    "    def __init__(self,location,atm):\n",
    "        self.location=location\n",
    "        self.atm=atm\n",
    "    def draw(self):\n",
    "        return f'draw line at {self.location}'"
   ]
  },
  {
   "cell_type": "code",
   "execution_count": 2,
   "id": "76f9ed52",
   "metadata": {},
   "outputs": [
    {
     "data": {
      "text/plain": [
       "<__main__.Map at 0x182bd19aa00>"
      ]
     },
     "execution_count": 2,
     "metadata": {},
     "output_type": "execute_result"
    }
   ],
   "source": [
    "map1=Map((123.123,3234.23),10)\n",
    "map1"
   ]
  },
  {
   "cell_type": "code",
   "execution_count": 3,
   "id": "64126c28",
   "metadata": {},
   "outputs": [
    {
     "data": {
      "text/plain": [
       "{'location': (123.123, 3234.23), 'atm': 10}"
      ]
     },
     "execution_count": 3,
     "metadata": {},
     "output_type": "execute_result"
    }
   ],
   "source": [
    "map1.__dict__"
   ]
  },
  {
   "cell_type": "code",
   "execution_count": 4,
   "id": "08819195",
   "metadata": {},
   "outputs": [
    {
     "data": {
      "text/plain": [
       "'draw line at (123.123, 3234.23)'"
      ]
     },
     "execution_count": 4,
     "metadata": {},
     "output_type": "execute_result"
    }
   ],
   "source": [
    "map1.draw()"
   ]
  },
  {
   "cell_type": "markdown",
   "id": "571c36d2",
   "metadata": {},
   "source": [
    "# Class Variable"
   ]
  },
  {
   "cell_type": "code",
   "execution_count": 5,
   "id": "979c6948",
   "metadata": {},
   "outputs": [],
   "source": [
    "class House:\n",
    "    roof=True\n",
    "    \n",
    "    def __init__(self,doors,windows,floors):\n",
    "        self.doors=doors\n",
    "        self.windows=windows\n",
    "        self.floors=floors\n",
    "    \n",
    "    def clean_roof(self):\n",
    "        if self.roof:\n",
    "            print('Cleaning Roof')\n",
    "        else:\n",
    "            print('No roof to be cleaned')"
   ]
  },
  {
   "cell_type": "code",
   "execution_count": 6,
   "id": "438ac265",
   "metadata": {},
   "outputs": [
    {
     "name": "stdout",
     "output_type": "stream",
     "text": [
      "{'doors': 4, 'windows': 2, 'floors': 10}\n"
     ]
    }
   ],
   "source": [
    "h1=House(4,2,10)\n",
    "print(h1.__dict__)"
   ]
  },
  {
   "cell_type": "code",
   "execution_count": 7,
   "id": "b4431bdd",
   "metadata": {},
   "outputs": [
    {
     "data": {
      "text/plain": [
       "mappingproxy({'__module__': '__main__',\n",
       "              'roof': True,\n",
       "              '__init__': <function __main__.House.__init__(self, doors, windows, floors)>,\n",
       "              'clean_roof': <function __main__.House.clean_roof(self)>,\n",
       "              '__dict__': <attribute '__dict__' of 'House' objects>,\n",
       "              '__weakref__': <attribute '__weakref__' of 'House' objects>,\n",
       "              '__doc__': None})"
      ]
     },
     "execution_count": 7,
     "metadata": {},
     "output_type": "execute_result"
    }
   ],
   "source": [
    "House.__dict__"
   ]
  },
  {
   "cell_type": "code",
   "execution_count": 8,
   "id": "f3dd905c",
   "metadata": {},
   "outputs": [
    {
     "name": "stdout",
     "output_type": "stream",
     "text": [
      "Cleaning Roof\n"
     ]
    }
   ],
   "source": [
    "h1.clean_roof()"
   ]
  },
  {
   "cell_type": "markdown",
   "id": "e0c21332",
   "metadata": {},
   "source": [
    "# Class Variable Example"
   ]
  },
  {
   "cell_type": "code",
   "execution_count": 9,
   "id": "27a0dcf9",
   "metadata": {},
   "outputs": [],
   "source": [
    "class House:\n",
    "    roof=False\n",
    "    \n",
    "    def __init__(self,doors,windows,floors):\n",
    "        self.doors=doors\n",
    "        self.windows=windows\n",
    "        self.floors=floors\n",
    "    \n",
    "    def clean_roof(self):\n",
    "        if self.roof:\n",
    "            print('Cleaning Roof')\n",
    "        else:\n",
    "            print('No roof to be cleaned')"
   ]
  },
  {
   "cell_type": "code",
   "execution_count": 10,
   "id": "6926beed",
   "metadata": {},
   "outputs": [
    {
     "name": "stdout",
     "output_type": "stream",
     "text": [
      "23\n"
     ]
    }
   ],
   "source": [
    "house2=House(2,23,10)\n",
    "print(house2.windows)"
   ]
  },
  {
   "cell_type": "code",
   "execution_count": 11,
   "id": "ecbc7853",
   "metadata": {},
   "outputs": [
    {
     "name": "stdout",
     "output_type": "stream",
     "text": [
      "Cleaning Roof\n"
     ]
    }
   ],
   "source": [
    "house2.roof=True\n",
    "house2.clean_roof()"
   ]
  },
  {
   "cell_type": "markdown",
   "id": "b2722f03",
   "metadata": {},
   "source": [
    "# Class Method and Static Method"
   ]
  },
  {
   "cell_type": "code",
   "execution_count": 12,
   "id": "5f85b72b",
   "metadata": {},
   "outputs": [],
   "source": [
    "class House:\n",
    "    roof=True\n",
    "    \n",
    "    def __init__(self,doors,windows,floors):\n",
    "        self.doors=doors\n",
    "        self.windows=windows\n",
    "        self.floors=floors\n",
    "    \n",
    "    def clean_roof(self):\n",
    "        if self.roof:\n",
    "            print('cleaning roof')\n",
    "        else:\n",
    "            print('no roof to be cleaned')\n",
    "\n",
    "    @classmethod\n",
    "    def mymethod(cls,roof):\n",
    "        cls.roof=roof\n",
    "    \n",
    "    @staticmethod\n",
    "    def leaving_house(time_of_day):\n",
    "        print(f'leaving house at {time_of_day}')"
   ]
  },
  {
   "cell_type": "code",
   "execution_count": 13,
   "id": "6ead8d18",
   "metadata": {},
   "outputs": [
    {
     "name": "stdout",
     "output_type": "stream",
     "text": [
      "False\n",
      "leaving house at 2 PM\n",
      "None\n"
     ]
    }
   ],
   "source": [
    "house=House(5,13,3)\n",
    "House.mymethod(False)\n",
    "print(House.roof)\n",
    "print(house.leaving_house('2 PM'))"
   ]
  },
  {
   "cell_type": "markdown",
   "id": "6ad7a646",
   "metadata": {},
   "source": [
    "# Inheritance"
   ]
  },
  {
   "cell_type": "code",
   "execution_count": 14,
   "id": "a6f9062f",
   "metadata": {},
   "outputs": [],
   "source": [
    "class Car:\n",
    "    def __init__(self,wheels,doors,engines):\n",
    "        self.wheels=wheels\n",
    "        self.doors=doors\n",
    "        self.engines=engines\n",
    "    \n",
    "    @staticmethod\n",
    "    def drive():\n",
    "        print('driving')\n",
    "    \n",
    "    @staticmethod\n",
    "    def brake():\n",
    "        print('braking')\n",
    "    \n",
    "class Suzuki(Car):\n",
    "    def __init__(self,wheels,doors,engines,fourwheeldrive):\n",
    "        super().__init__(wheels,doors,engines)\n",
    "#         Car.__init__(self,wheels,doors,engines)\n",
    "        self.fourwheeldrive=fourwheeldrive\n",
    "        \n",
    "    @staticmethod\n",
    "    def drive():\n",
    "        print('Driving Suzuki')"
   ]
  },
  {
   "cell_type": "code",
   "execution_count": 15,
   "id": "0d6b649f",
   "metadata": {},
   "outputs": [
    {
     "name": "stdout",
     "output_type": "stream",
     "text": [
      "Driving Suzuki\n",
      "None\n",
      "driving\n",
      "None\n"
     ]
    }
   ],
   "source": [
    "suzuki=Suzuki(4,4,'fast',True)\n",
    "car=Car(4,4,'fast')\n",
    "\n",
    "print(suzuki.drive())\n",
    "print(car.drive())"
   ]
  },
  {
   "cell_type": "markdown",
   "id": "3dfe3d8a",
   "metadata": {},
   "source": [
    "# Composition"
   ]
  },
  {
   "cell_type": "code",
   "execution_count": 16,
   "id": "98b4249a",
   "metadata": {},
   "outputs": [
    {
     "name": "stdout",
     "output_type": "stream",
     "text": [
      "Computer -> booting\n",
      "None\n",
      "Processing > processing\n",
      "None\n",
      "Ram -> storing\n",
      "None\n",
      "Mother Board -> booting\n",
      "None\n"
     ]
    }
   ],
   "source": [
    "class Processor:\n",
    "    def __init__(self,core,speed):\n",
    "        self.core=core\n",
    "        self.speed=speed\n",
    "\n",
    "    @staticmethod\n",
    "    def processing():\n",
    "        print('Processing > processing')\n",
    "\n",
    "class Ram:\n",
    "    def __init__(self,capacity,speed):\n",
    "        self.capacity=capacity\n",
    "        self.speed=speed\n",
    "    \n",
    "    @staticmethod\n",
    "    def storing():\n",
    "        print('Ram -> storing')\n",
    "\n",
    "class Motherboard:\n",
    "    def __init__(self,dimm_slots,pci_slots):\n",
    "        self.dimm_slots=dimm_slots\n",
    "        self.pci_slots=pci_slots\n",
    "        \n",
    "    @staticmethod\n",
    "    def controlling():\n",
    "        print('Mother Board -> booting')\n",
    "\n",
    "class Computer:\n",
    "    def __init__(self,processor,ram,motherboard):\n",
    "        self.processor=processor\n",
    "        self.ram=ram\n",
    "        self.motherboard=motherboard\n",
    "    \n",
    "    @staticmethod\n",
    "    def boot():\n",
    "        print('Computer -> booting')\n",
    "\n",
    "computer=Computer(Processor(4,3),Ram(8,266),Motherboard(4,3))\n",
    "print(computer.boot())\n",
    "print(computer.processor.processing())\n",
    "print(computer.ram.storing())\n",
    "print(computer.motherboard.controlling())"
   ]
  }
 ],
 "metadata": {
  "kernelspec": {
   "display_name": "Python 3 (ipykernel)",
   "language": "python",
   "name": "python3"
  },
  "language_info": {
   "codemirror_mode": {
    "name": "ipython",
    "version": 3
   },
   "file_extension": ".py",
   "mimetype": "text/x-python",
   "name": "python",
   "nbconvert_exporter": "python",
   "pygments_lexer": "ipython3",
   "version": "3.9.15"
  }
 },
 "nbformat": 4,
 "nbformat_minor": 5
}
