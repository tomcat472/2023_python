{
 "cells": [
  {
   "cell_type": "markdown",
   "id": "253b39e3",
   "metadata": {},
   "source": [
    "# Function"
   ]
  },
  {
   "cell_type": "code",
   "execution_count": 1,
   "id": "d3f3c54c",
   "metadata": {},
   "outputs": [],
   "source": [
    "def my_fun():\n",
    "    print('Hello')"
   ]
  },
  {
   "cell_type": "code",
   "execution_count": 2,
   "id": "2307e6c0",
   "metadata": {},
   "outputs": [
    {
     "data": {
      "text/plain": [
       "<function __main__.my_fun()>"
      ]
     },
     "execution_count": 2,
     "metadata": {},
     "output_type": "execute_result"
    }
   ],
   "source": [
    "my_fun"
   ]
  },
  {
   "cell_type": "code",
   "execution_count": 3,
   "id": "f0263feb",
   "metadata": {},
   "outputs": [
    {
     "name": "stdout",
     "output_type": "stream",
     "text": [
      "Hello\n"
     ]
    }
   ],
   "source": [
    "my_fun()"
   ]
  },
  {
   "cell_type": "code",
   "execution_count": 4,
   "id": "f160d1c0",
   "metadata": {},
   "outputs": [],
   "source": [
    "def my_fun(name='Jack'):\n",
    "    print(f'Hello {name}')\n",
    "    print(f'Where are you from, {name}')"
   ]
  },
  {
   "cell_type": "code",
   "execution_count": 5,
   "id": "25a4a653",
   "metadata": {},
   "outputs": [
    {
     "name": "stdout",
     "output_type": "stream",
     "text": [
      "Hello Jack\n",
      "Where are you from, Jack\n"
     ]
    }
   ],
   "source": [
    "my_fun()"
   ]
  },
  {
   "cell_type": "code",
   "execution_count": 6,
   "id": "cf1ad470",
   "metadata": {},
   "outputs": [],
   "source": [
    "def my_fun(x,y):\n",
    "    addition=x+y\n",
    "    subtract=x-y\n",
    "    multiply=x*y\n",
    "    division=x/y\n",
    "    return f'addition is {addition},subtract is {subtract},multiply is {multiply},and division {division}'"
   ]
  },
  {
   "cell_type": "code",
   "execution_count": 7,
   "id": "032fc329",
   "metadata": {},
   "outputs": [
    {
     "data": {
      "text/plain": [
       "'addition is 5,subtract is -1,multiply is 6,and division 0.6666666666666666'"
      ]
     },
     "execution_count": 7,
     "metadata": {},
     "output_type": "execute_result"
    }
   ],
   "source": [
    "my_fun(2,3)"
   ]
  },
  {
   "cell_type": "markdown",
   "id": "399585f7",
   "metadata": {},
   "source": [
    "# Lambda Function"
   ]
  },
  {
   "cell_type": "code",
   "execution_count": 8,
   "id": "e3599a02",
   "metadata": {},
   "outputs": [
    {
     "name": "stdout",
     "output_type": "stream",
     "text": [
      "4\n"
     ]
    }
   ],
   "source": [
    "fun=lambda n:n*2\n",
    "print(fun(2))"
   ]
  },
  {
   "cell_type": "code",
   "execution_count": 9,
   "id": "a1abd987",
   "metadata": {},
   "outputs": [
    {
     "data": {
      "text/plain": [
       "-190"
      ]
     },
     "execution_count": 9,
     "metadata": {},
     "output_type": "execute_result"
    }
   ],
   "source": [
    "fun=lambda x,y:x-y*2\n",
    "fun(10,100)"
   ]
  },
  {
   "cell_type": "markdown",
   "id": "1fa77c3a",
   "metadata": {},
   "source": [
    "# Map Function"
   ]
  },
  {
   "cell_type": "code",
   "execution_count": 10,
   "id": "78791c69",
   "metadata": {},
   "outputs": [
    {
     "name": "stdout",
     "output_type": "stream",
     "text": [
      "<map object at 0x000001C8A1B2DF40>\n"
     ]
    }
   ],
   "source": [
    "my_list=[1,2,3,4]\n",
    "def double(n):\n",
    "    return n*2\n",
    "result=map(double,my_list)\n",
    "print(result)"
   ]
  },
  {
   "cell_type": "code",
   "execution_count": 11,
   "id": "bcfc8eb9",
   "metadata": {},
   "outputs": [
    {
     "name": "stdout",
     "output_type": "stream",
     "text": [
      "2\n",
      "4\n",
      "6\n",
      "8\n"
     ]
    }
   ],
   "source": [
    "for r in result:\n",
    "    print(r)"
   ]
  },
  {
   "cell_type": "code",
   "execution_count": 12,
   "id": "327c9333",
   "metadata": {},
   "outputs": [
    {
     "name": "stdout",
     "output_type": "stream",
     "text": [
      "1\n",
      "4\n",
      "9\n",
      "16\n",
      "25\n"
     ]
    }
   ],
   "source": [
    "my_list=[1,2,3,4,5]\n",
    "mapped=map(lambda x:x*x,my_list)\n",
    "for m in mapped:\n",
    "    print(m)"
   ]
  },
  {
   "cell_type": "markdown",
   "id": "71d5bf99",
   "metadata": {},
   "source": [
    "# List Comprehension"
   ]
  },
  {
   "cell_type": "code",
   "execution_count": 13,
   "id": "60b5db3d",
   "metadata": {},
   "outputs": [
    {
     "name": "stdout",
     "output_type": "stream",
     "text": [
      "[0, 1, 2, 3, 4, 5, 6, 7, 8, 9]\n"
     ]
    }
   ],
   "source": [
    "A=[]\n",
    "for _ in range(10):\n",
    "    A.append(_)\n",
    "print(A)"
   ]
  },
  {
   "cell_type": "code",
   "execution_count": 14,
   "id": "042770fa",
   "metadata": {},
   "outputs": [
    {
     "name": "stdout",
     "output_type": "stream",
     "text": [
      "[0, 1, 2, 3, 4, 5, 6, 7, 8, 9]\n"
     ]
    }
   ],
   "source": [
    "B=[_ for _ in range(10)]\n",
    "print(B)"
   ]
  },
  {
   "cell_type": "markdown",
   "id": "a6f2fc55",
   "metadata": {},
   "source": [
    "# Enumerate"
   ]
  },
  {
   "cell_type": "code",
   "execution_count": 15,
   "id": "1704656b",
   "metadata": {},
   "outputs": [
    {
     "name": "stdout",
     "output_type": "stream",
     "text": [
      "0 a\n",
      "1 b\n",
      "2 c\n",
      "3 d\n",
      "4 e\n"
     ]
    }
   ],
   "source": [
    "my_list=['a','b','c','d','e']\n",
    "for i in range(len(my_list)):\n",
    "    print(i,my_list[i])"
   ]
  },
  {
   "cell_type": "code",
   "execution_count": 16,
   "id": "3a8e4af3",
   "metadata": {},
   "outputs": [
    {
     "name": "stdout",
     "output_type": "stream",
     "text": [
      "0 a\n",
      "1 b\n",
      "2 c\n",
      "3 d\n",
      "4 e\n"
     ]
    }
   ],
   "source": [
    "for i,j in enumerate(my_list):\n",
    "    print(i,j)"
   ]
  },
  {
   "cell_type": "code",
   "execution_count": 17,
   "id": "0639d266",
   "metadata": {},
   "outputs": [
    {
     "name": "stdout",
     "output_type": "stream",
     "text": [
      "{0: 'a', 1: 'b', 2: 'c', 3: 'd', 4: 'e'}\n"
     ]
    }
   ],
   "source": [
    "Dict=dict(enumerate(my_list))\n",
    "print(Dict)"
   ]
  },
  {
   "cell_type": "markdown",
   "id": "c84fd201",
   "metadata": {},
   "source": [
    "# Zip"
   ]
  },
  {
   "cell_type": "code",
   "execution_count": 18,
   "id": "27dc909b",
   "metadata": {},
   "outputs": [
    {
     "name": "stdout",
     "output_type": "stream",
     "text": [
      "1 a apple\n",
      "2 b ball\n",
      "3 c cat\n",
      "4 d dog\n",
      "5 e eraser\n"
     ]
    }
   ],
   "source": [
    "x=[1,2,3,4,5]\n",
    "y=['a','b','c','d','e']\n",
    "z=['apple','ball','cat','dog','eraser']\n",
    "for a,b,c in zip(x,y,z):\n",
    "    print(a,b,c)"
   ]
  },
  {
   "cell_type": "code",
   "execution_count": 19,
   "id": "90c209f2",
   "metadata": {},
   "outputs": [
    {
     "name": "stdout",
     "output_type": "stream",
     "text": [
      "(1, 'a', 'apple')\n",
      "(2, 'b', 'ball')\n",
      "(3, 'c', 'cat')\n",
      "(4, 'd', 'dog')\n",
      "(5, 'e', 'eraser')\n"
     ]
    }
   ],
   "source": [
    "for i in zip(x,y,z):\n",
    "    print(i)"
   ]
  },
  {
   "cell_type": "code",
   "execution_count": 20,
   "id": "a3402cda",
   "metadata": {},
   "outputs": [
    {
     "data": {
      "text/plain": [
       "[(1, 'a', 'apple'),\n",
       " (2, 'b', 'ball'),\n",
       " (3, 'c', 'cat'),\n",
       " (4, 'd', 'dog'),\n",
       " (5, 'e', 'eraser')]"
      ]
     },
     "execution_count": 20,
     "metadata": {},
     "output_type": "execute_result"
    }
   ],
   "source": [
    "list(zip(x,y,z))"
   ]
  },
  {
   "cell_type": "markdown",
   "id": "698cc5b4",
   "metadata": {},
   "source": [
    "# *args and *kwargs"
   ]
  },
  {
   "cell_type": "code",
   "execution_count": 21,
   "id": "c5211cbb",
   "metadata": {},
   "outputs": [
    {
     "name": "stdout",
     "output_type": "stream",
     "text": [
      "a\n",
      "b\n",
      "c\n",
      "d\n",
      "e\n"
     ]
    }
   ],
   "source": [
    "def my_fun(*args):\n",
    "    for _ in args:\n",
    "        print(_)\n",
    "my_fun('a','b','c','d','e')"
   ]
  },
  {
   "cell_type": "code",
   "execution_count": 22,
   "id": "903526da",
   "metadata": {},
   "outputs": [
    {
     "name": "stdout",
     "output_type": "stream",
     "text": [
      "b\n"
     ]
    }
   ],
   "source": [
    "def my_fun(a,*args):\n",
    "    print(a)\n",
    "my_fun('b','c')"
   ]
  },
  {
   "cell_type": "code",
   "execution_count": 23,
   "id": "2491f08e",
   "metadata": {},
   "outputs": [
    {
     "name": "stdout",
     "output_type": "stream",
     "text": [
      "a\n",
      "b\n",
      "c\n"
     ]
    }
   ],
   "source": [
    "def my_fun(a,*args):\n",
    "    print(a)\n",
    "    print(args[0])\n",
    "    print(args[1])\n",
    "my_fun('a','b','c')"
   ]
  },
  {
   "cell_type": "code",
   "execution_count": 24,
   "id": "d33e62d0",
   "metadata": {},
   "outputs": [
    {
     "name": "stdout",
     "output_type": "stream",
     "text": [
      "1\n",
      "4\n"
     ]
    }
   ],
   "source": [
    "def my_fun(n,*args):\n",
    "    print(n)\n",
    "    print(args[2])\n",
    "my_fun(1,2,3,4)"
   ]
  },
  {
   "cell_type": "code",
   "execution_count": 25,
   "id": "b1338ba9",
   "metadata": {},
   "outputs": [
    {
     "name": "stdout",
     "output_type": "stream",
     "text": [
      "a apple\n",
      "b banana\n"
     ]
    }
   ],
   "source": [
    "def func(**kwargs):\n",
    "    for a,b in kwargs.items():\n",
    "        print(a,b)\n",
    "func(a='apple',b='banana')"
   ]
  },
  {
   "cell_type": "code",
   "execution_count": 26,
   "id": "adade48b",
   "metadata": {},
   "outputs": [
    {
     "name": "stdout",
     "output_type": "stream",
     "text": [
      "apple\n",
      "x xylo\n",
      "y yell\n"
     ]
    }
   ],
   "source": [
    "def func(a,**kwargs):\n",
    "    print(a)\n",
    "    for x,y in kwargs.items():\n",
    "        print(x,y)\n",
    "        \n",
    "func('apple',x='xylo',y='yell')"
   ]
  },
  {
   "cell_type": "code",
   "execution_count": 27,
   "id": "ab564877",
   "metadata": {},
   "outputs": [
    {
     "name": "stdout",
     "output_type": "stream",
     "text": [
      "args:  ('apple', 'orange')\n",
      "kwargs {'a': 'apple', 'b': 'ball'}\n"
     ]
    }
   ],
   "source": [
    "def myFunc(*args,**kwargs):\n",
    "    print('args: ',args)\n",
    "    print('kwargs', kwargs)\n",
    "myFunc('apple','orange',a='apple',b='ball')"
   ]
  },
  {
   "cell_type": "code",
   "execution_count": 28,
   "id": "50c0e3be",
   "metadata": {},
   "outputs": [
    {
     "data": {
      "text/plain": [
       "6"
      ]
     },
     "execution_count": 28,
     "metadata": {},
     "output_type": "execute_result"
    }
   ],
   "source": [
    "def mult(a,b,c):\n",
    "    return a*b*c\n",
    "mult(1,2,3)"
   ]
  },
  {
   "cell_type": "code",
   "execution_count": 29,
   "id": "4ee110ff",
   "metadata": {},
   "outputs": [
    {
     "name": "stdout",
     "output_type": "stream",
     "text": [
      "1728\n"
     ]
    }
   ],
   "source": [
    "my_tuple=(12,12,12)\n",
    "print(mult(*my_tuple))"
   ]
  }
 ],
 "metadata": {
  "kernelspec": {
   "display_name": "Python 3 (ipykernel)",
   "language": "python",
   "name": "python3"
  },
  "language_info": {
   "codemirror_mode": {
    "name": "ipython",
    "version": 3
   },
   "file_extension": ".py",
   "mimetype": "text/x-python",
   "name": "python",
   "nbconvert_exporter": "python",
   "pygments_lexer": "ipython3",
   "version": "3.9.15"
  }
 },
 "nbformat": 4,
 "nbformat_minor": 5
}
